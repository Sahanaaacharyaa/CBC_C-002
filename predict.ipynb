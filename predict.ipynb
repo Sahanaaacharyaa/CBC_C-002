{
 "cells": [
  {
   "cell_type": "code",
   "execution_count": 6,
   "id": "083f9ab1-a49a-4dbb-b691-538b5c8252cd",
   "metadata": {},
   "outputs": [
    {
     "name": "stdout",
     "output_type": "stream",
     "text": [
      "Risk Prediction Report:\n",
      "              precision    recall  f1-score   support\n",
      "\n",
      "           0       1.00      0.70      0.82        10\n",
      "           1       0.73      0.84      0.78        19\n",
      "           2       0.81      0.81      0.81        31\n",
      "\n",
      "    accuracy                           0.80        60\n",
      "   macro avg       0.84      0.78      0.80        60\n",
      "weighted avg       0.81      0.80      0.80        60\n",
      "\n",
      "Accuracy: 0.8\n",
      "Complications Prediction Report:\n",
      "               precision    recall  f1-score   support\n",
      "\n",
      "           0       0.00      0.00      0.00         8\n",
      "           1       0.47      1.00      0.64        28\n",
      "           2       0.00      0.00      0.00         9\n",
      "           3       0.00      0.00      0.00         2\n",
      "           4       0.00      0.00      0.00         9\n",
      "           5       0.00      0.00      0.00         4\n",
      "\n",
      "    accuracy                           0.47        60\n",
      "   macro avg       0.08      0.17      0.11        60\n",
      "weighted avg       0.22      0.47      0.30        60\n",
      "\n",
      "Accuracy: 0.4666666666666667\n"
     ]
    },
    {
     "name": "stderr",
     "output_type": "stream",
     "text": [
      "C:\\Users\\my pc\\AppData\\Roaming\\Python\\Python311\\site-packages\\sklearn\\metrics\\_classification.py:1565: UndefinedMetricWarning: Precision is ill-defined and being set to 0.0 in labels with no predicted samples. Use `zero_division` parameter to control this behavior.\n",
      "  _warn_prf(average, modifier, f\"{metric.capitalize()} is\", len(result))\n",
      "C:\\Users\\my pc\\AppData\\Roaming\\Python\\Python311\\site-packages\\sklearn\\metrics\\_classification.py:1565: UndefinedMetricWarning: Precision is ill-defined and being set to 0.0 in labels with no predicted samples. Use `zero_division` parameter to control this behavior.\n",
      "  _warn_prf(average, modifier, f\"{metric.capitalize()} is\", len(result))\n",
      "C:\\Users\\my pc\\AppData\\Roaming\\Python\\Python311\\site-packages\\sklearn\\metrics\\_classification.py:1565: UndefinedMetricWarning: Precision is ill-defined and being set to 0.0 in labels with no predicted samples. Use `zero_division` parameter to control this behavior.\n",
      "  _warn_prf(average, modifier, f\"{metric.capitalize()} is\", len(result))\n"
     ]
    }
   ],
   "source": [
    "import os\n",
    "import pandas as pd\n",
    "from sklearn.model_selection import train_test_split\n",
    "from sklearn.preprocessing import LabelEncoder, StandardScaler\n",
    "from sklearn.impute import SimpleImputer\n",
    "from sklearn.ensemble import RandomForestClassifier\n",
    "from sklearn.metrics import classification_report\n",
    "import joblib\n",
    "from sklearn.model_selection import StratifiedShuffleSplit\n",
    "from imblearn.over_sampling import SMOTE\n",
    "from sklearn.metrics import accuracy_score\n",
    "\n",
    "\n",
    "# Ensure models folder exists\n",
    "os.makedirs(\"models\", exist_ok=True)\n",
    "\n",
    "# Load data\n",
    "df = pd.read_csv(\"data/gender_affirming_surgery_risk_dataset (1).csv\")\n",
    "\n",
    "# Handle missing values\n",
    "imputer = SimpleImputer(strategy='most_frequent')\n",
    "df_imputed = pd.DataFrame(imputer.fit_transform(df), columns=df.columns)\n",
    "\n",
    "# Encode categorical features\n",
    "label_encoders = {}\n",
    "for col in df_imputed.select_dtypes(include=['object']).columns:\n",
    "    le = LabelEncoder()\n",
    "    df_imputed[col] = le.fit_transform(df_imputed[col])\n",
    "    label_encoders[col] = le\n",
    "\n",
    "# Scale features\n",
    "scaler = StandardScaler()\n",
    "X = df_imputed.drop(columns=[\"PostOp_Risk_Level\", \"Complications\"])\n",
    "y_risk = df_imputed[\"PostOp_Risk_Level\"]\n",
    "y_complications = df_imputed[\"Complications\"]\n",
    "\n",
    "X_scaled = scaler.fit_transform(X)\n",
    "\n",
    "# Train-test split\n",
    "X_train, X_test, y_risk_train, y_risk_test = train_test_split(X_scaled, y_risk, test_size=0.2, random_state=42)\n",
    "_, _, y_comp_train, y_comp_test = train_test_split(X_scaled, y_complications, test_size=0.2, random_state=42)\n",
    "\n",
    "# Train Risk model\n",
    "\n",
    "\n",
    "sss_risk = StratifiedShuffleSplit(n_splits=1, test_size=0.2, random_state=42)\n",
    "for train_idx, test_idx in sss_risk.split(X_scaled, y_risk):\n",
    "    X_risk_train, X_risk_test = X_scaled[train_idx], X_scaled[test_idx]\n",
    "    y_risk_train, y_risk_test = y_risk.iloc[train_idx], y_risk.iloc[test_idx]\n",
    "\n",
    "# Apply SMOTE to risk training data\n",
    "smote = SMOTE(random_state=42)\n",
    "X_risk_train_sm, y_risk_train_sm = smote.fit_resample(X_risk_train, y_risk_train)\n",
    "\n",
    "# Train risk model with class_weight='balanced'\n",
    "risk_model = RandomForestClassifier(class_weight='balanced', random_state=42)\n",
    "risk_model.fit(X_risk_train_sm, y_risk_train_sm)\n",
    "y_risk_pred = risk_model.predict(X_risk_test)\n",
    "print(\"Risk Prediction Report:\")\n",
    "print(classification_report(y_risk_test, y_risk_pred))\n",
    "print(\"Accuracy:\", accuracy_score(y_risk_test, y_risk_pred))\n",
    "\n",
    "# Train Complication model\n",
    "comp_model = RandomForestClassifier(random_state=42)\n",
    "comp_model.fit(X_train, y_comp_train)\n",
    "comp_preds = comp_model.predict(X_test)\n",
    "print(\"Complications Prediction Report:\\n\", classification_report(y_comp_test, comp_preds))\n",
    "print(\"Accuracy:\", accuracy_score(y_comp_test, comp_preds))\n",
    "\n",
    "# Save models and preprocessors\n"
   ]
  },
  {
   "cell_type": "code",
   "execution_count": 7,
   "id": "7efe3f7e-7405-408f-88e2-53a2eba93f40",
   "metadata": {},
   "outputs": [
    {
     "data": {
      "text/plain": [
       "['api/models/label_encoders.pkl']"
      ]
     },
     "execution_count": 7,
     "metadata": {},
     "output_type": "execute_result"
    }
   ],
   "source": [
    "joblib.dump(risk_model, \"api/models/risk_model.pkl\")\n",
    "joblib.dump(comp_model, \"api/models/comp_model.pkl\")\n",
    "joblib.dump(scaler, \"api/models/scaler.pkl\")\n",
    "joblib.dump(label_encoders, \"api/models/label_encoders.pkl\")"
   ]
  },
  {
   "cell_type": "code",
   "execution_count": null,
   "id": "b2ac5695-02ae-4b29-a961-50feda5929ec",
   "metadata": {},
   "outputs": [],
   "source": []
  }
 ],
 "metadata": {
  "kernelspec": {
   "display_name": "Python 3",
   "language": "python",
   "name": "python3"
  },
  "language_info": {
   "codemirror_mode": {
    "name": "ipython",
    "version": 3
   },
   "file_extension": ".py",
   "mimetype": "text/x-python",
   "name": "python",
   "nbconvert_exporter": "python",
   "pygments_lexer": "ipython3",
   "version": "3.13.1"
  }
 },
 "nbformat": 4,
 "nbformat_minor": 5
}
